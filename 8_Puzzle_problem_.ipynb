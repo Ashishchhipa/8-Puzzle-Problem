{
  "nbformat": 4,
  "nbformat_minor": 0,
  "metadata": {
    "colab": {
      "provenance": [],
      "gpuType": "T4",
      "include_colab_link": true
    },
    "kernelspec": {
      "name": "python3",
      "display_name": "Python 3"
    },
    "language_info": {
      "name": "python"
    },
    "accelerator": "GPU"
  },
  "cells": [
    {
      "cell_type": "markdown",
      "metadata": {
        "id": "view-in-github",
        "colab_type": "text"
      },
      "source": [
        "<a href=\"https://colab.research.google.com/github/Ashishchhipa/8-Puzzle-problem/blob/main/8_Puzzle_problem_.ipynb\" target=\"_parent\"><img src=\"https://colab.research.google.com/assets/colab-badge.svg\" alt=\"Open In Colab\"/></a>"
      ]
    },
    {
      "cell_type": "code",
      "source": [
        "from copy import deepcopy"
      ],
      "metadata": {
        "id": "IoR0hVW6Geo0"
      },
      "execution_count": 30,
      "outputs": []
    },
    {
      "cell_type": "code",
      "source": [
        "## Here we are making pairs with their parent Node\n",
        "def Makepairs(NewNode,NodePair):\n",
        "  parent = []\n",
        "  for i in range(len(NewNode)):\n",
        "    temp=[]\n",
        "    temp.append(NewNode[i])\n",
        "    temp.append(NodePair)\n",
        "    parent.append(temp);\n",
        "  return parent"
      ],
      "metadata": {
        "id": "L997ddcNEn-J"
      },
      "execution_count": 31,
      "outputs": []
    },
    {
      "cell_type": "code",
      "source": [
        "### Here we are removing Repeated Nodes\n",
        "def RemoveSeen(Closed,children):\n",
        "  ans=[]\n",
        "  for i in range(len(children)):\n",
        "    flag=False\n",
        "    for j in range(len(Closed)):\n",
        "      if children[i]==Closed[j][0]:\n",
        "        flag=True\n",
        "        break\n",
        "    if flag==False:\n",
        "      ans.append(children[i])\n",
        "  return ans"
      ],
      "metadata": {
        "id": "gPz0o_UVG3zX"
      },
      "execution_count": 32,
      "outputs": []
    },
    {
      "cell_type": "code",
      "source": [
        "def Reverse(lst):\n",
        "   new_lst = lst[::-1]\n",
        "   return new_lst\n",
        "\n",
        "## When we find our goal node, then we are going to print all their parents and that node.\n",
        "def ReconstructPath(NodePair,Closed):\n",
        "  parent=[]\n",
        "  parent.append(NodePair)\n",
        "  for i in Closed:\n",
        "        if i[0]==NodePair:\n",
        "          if(NodePair!=i[1]): #(Node, parent (if our Node = Parent is our base condition))\n",
        "            temp=ReconstructPath(i[1],Closed)\n",
        "            for i in temp:\n",
        "                parent.append(i)\n",
        "          else:\n",
        "            break\n",
        "  return parent"
      ],
      "metadata": {
        "id": "PBpqsKXpagKO"
      },
      "execution_count": 33,
      "outputs": []
    },
    {
      "cell_type": "code",
      "source": [
        "def swap(Nodepair,ni,nj,i,j):\n",
        "    temp = Nodepair[ni][nj];\n",
        "    Nodepair[ni][nj] = Nodepair[i][j];\n",
        "    Nodepair[i][j] = temp;\n",
        "    return Nodepair;"
      ],
      "metadata": {
        "id": "MlNU8HcdD3hg"
      },
      "execution_count": 34,
      "outputs": []
    },
    {
      "cell_type": "code",
      "source": [
        "# Generating new nodes by swapping 9 with adjacent positions (right, left, up, down)\n",
        "def MoveGen(Nodepair, i,j):\n",
        "  NewNode = [];\n",
        "  nj = j+1;   ## Right swap\n",
        "  n2j = j-1;  ## Left swap\n",
        "  ni = i-1;   ## Up swap\n",
        "  n2i = i+1;  ## Down swap\n",
        "\n",
        "  if(nj<=2):  ## Right swap\n",
        "    new_pair = deepcopy(Nodepair)\n",
        "    new_pair = swap(new_pair, i, nj, i, j)\n",
        "    NewNode.append(new_pair)\n",
        "\n",
        "  if(n2j>=0 ):## Left swap\n",
        "    new_pair = deepcopy(Nodepair)\n",
        "    new_pair = swap(new_pair, i, n2j, i, j)\n",
        "    NewNode.append(new_pair)\n",
        "\n",
        "  if(ni>=0):## Up swap\n",
        "    new_pair = deepcopy(Nodepair)\n",
        "    new_pair = swap(new_pair, ni, j, i, j)\n",
        "    NewNode.append(new_pair)\n",
        "\n",
        "  if(n2i<=2 ):## Down swap\n",
        "    new_pair = deepcopy(Nodepair)\n",
        "    new_pair = swap(new_pair, n2i, j, i, j)\n",
        "    NewNode.append(new_pair)\n",
        "  return NewNode;"
      ],
      "metadata": {
        "id": "Wv8uRFvUCDGN"
      },
      "execution_count": 35,
      "outputs": []
    },
    {
      "cell_type": "code",
      "source": [
        "### Here we are finding 9 number index in our puzzle.\n",
        "def func(NodePair):\n",
        "  for i in range(3):\n",
        "    for j in range(3):\n",
        "      if(NodePair[i][j]==9):\n",
        "        return i,j\n",
        "  return -1,-1"
      ],
      "metadata": {
        "id": "zShhjhmGgcmz"
      },
      "execution_count": 36,
      "outputs": []
    },
    {
      "cell_type": "code",
      "source": [
        "def db_dfs(OpenNode, GoalNode, depth):\n",
        "    Open = []\n",
        "    Closed = []\n",
        "    temp = [OpenNode, OpenNode, 0]\n",
        "    Open.append(temp)\n",
        "    Closed.append(temp)\n",
        "\n",
        "    while Open:\n",
        "        NodePair = Open[0][0]\n",
        "        NodeParent = Open[0][1]\n",
        "        NodeDepth = Open[0][2]\n",
        "        Open.pop(0)\n",
        "\n",
        "        if GoalNode == NodePair:\n",
        "            return ReconstructPath(NodeParent, Closed)\n",
        "\n",
        "        if NodeDepth < depth:\n",
        "            i, j = func(NodePair)\n",
        "            children = MoveGen(NodePair, i, j)\n",
        "            NewNode = RemoveSeen(Closed, children)\n",
        "            NewPairs = Makepairs(NewNode, NodePair)\n",
        "\n",
        "            for it in NewPairs:\n",
        "                it.append(NodeDepth + 1)\n",
        "                Closed.append(it)\n",
        "                Open.insert(0, it)  # Insert at the front for depth-first search\n",
        "\n",
        "    return None"
      ],
      "metadata": {
        "id": "W-UQUkTDsagU"
      },
      "execution_count": 37,
      "outputs": []
    },
    {
      "cell_type": "code",
      "source": [
        "def DFID(OpenNode , GoalNode):\n",
        "  depth = 0\n",
        "  while(True):\n",
        "    result = db_dfs(OpenNode,GoalNode,depth)\n",
        "    if result:\n",
        "      return result\n",
        "    depth+=1"
      ],
      "metadata": {
        "id": "B1oRs3alr8fJ"
      },
      "execution_count": 38,
      "outputs": []
    },
    {
      "cell_type": "code",
      "source": [
        "def DFS(OpenNode , GoalNode):\n",
        "    Open = []\n",
        "    temp=[]\n",
        "    temp.append(OpenNode)\n",
        "    temp.append(OpenNode)\n",
        "    Open.append(temp)\n",
        "    Closed = []\n",
        "    Closed.append(temp)\n",
        "    while (len(Open) > 0) :\n",
        "      NodePair = Open[0][0]\n",
        "      NodeParent = Open[0][1]\n",
        "      Open.pop(0);\n",
        "      if(GoalNode == NodePair):\n",
        "        return ReconstructPath(NodeParent,Closed)\n",
        "      else:\n",
        "        # print(NodePair)\n",
        "        i,j =func(NodePair)\n",
        "        children = MoveGen(NodePair,i,j)\n",
        "        NewNode = RemoveSeen(Closed,children)\n",
        "        NewPairs = Makepairs(NewNode,NodePair)\n",
        "        for it in NewPairs:\n",
        "          Closed.append(it)\n",
        "          Open.insert(0,it)\n",
        "    return []"
      ],
      "metadata": {
        "id": "5F2v5yRiT0bA"
      },
      "execution_count": 39,
      "outputs": []
    },
    {
      "cell_type": "code",
      "source": [
        "def BFS(OpenNode , GoalNode):\n",
        "    Open = []\n",
        "    temp=[]\n",
        "    temp.append(OpenNode)\n",
        "    temp.append(OpenNode)\n",
        "    Open.append(temp)\n",
        "    Closed = []\n",
        "    Closed.append(temp)\n",
        "    while (len(Open) > 0) :\n",
        "      NodePair = Open[0][0]\n",
        "      NodeParent = Open[0][1]\n",
        "      Open.pop(0);\n",
        "      if(GoalNode == NodePair):\n",
        "        return ReconstructPath(NodeParent,Closed)\n",
        "      else:\n",
        "        i,j =func(NodePair)\n",
        "        children = MoveGen(NodePair,i,j)\n",
        "        NewNode = RemoveSeen(Closed,children)\n",
        "        NewPairs = Makepairs(NewNode,NodePair)\n",
        "        for it in NewPairs:\n",
        "          Closed.append(it)\n",
        "          Open.append(it)\n",
        "    return []"
      ],
      "metadata": {
        "id": "pDEQLZ_NEJZO"
      },
      "execution_count": 40,
      "outputs": []
    },
    {
      "cell_type": "code",
      "source": [
        "## Searching through BFS\n",
        "OpenNode =  [  [8,2,3],\n",
        "               [1,4,5],\n",
        "               [7,9,6]]\n",
        "GoalNode = [[1,2,3],[4,5,6],[7,8,9]]\n",
        "temp = BFS(OpenNode,GoalNode)\n",
        "temp=Reverse(temp)\n",
        "temp.append(GoalNode)\n",
        "print(len(temp))\n",
        "for i in temp:\n",
        "  print(i)"
      ],
      "metadata": {
        "id": "-KkNN05lpeTQ",
        "colab": {
          "base_uri": "https://localhost:8080/"
        },
        "outputId": "4d3622d3-78af-4aaa-cb14-01ba2b1f3092"
      },
      "execution_count": 44,
      "outputs": [
        {
          "output_type": "stream",
          "name": "stdout",
          "text": [
            "16\n",
            "[[8, 2, 3], [1, 4, 5], [7, 9, 6]]\n",
            "[[8, 2, 3], [1, 4, 5], [7, 6, 9]]\n",
            "[[8, 2, 3], [1, 4, 9], [7, 6, 5]]\n",
            "[[8, 2, 9], [1, 4, 3], [7, 6, 5]]\n",
            "[[8, 9, 2], [1, 4, 3], [7, 6, 5]]\n",
            "[[9, 8, 2], [1, 4, 3], [7, 6, 5]]\n",
            "[[1, 8, 2], [9, 4, 3], [7, 6, 5]]\n",
            "[[1, 8, 2], [4, 9, 3], [7, 6, 5]]\n",
            "[[1, 9, 2], [4, 8, 3], [7, 6, 5]]\n",
            "[[1, 2, 9], [4, 8, 3], [7, 6, 5]]\n",
            "[[1, 2, 3], [4, 8, 9], [7, 6, 5]]\n",
            "[[1, 2, 3], [4, 8, 5], [7, 6, 9]]\n",
            "[[1, 2, 3], [4, 8, 5], [7, 9, 6]]\n",
            "[[1, 2, 3], [4, 9, 5], [7, 8, 6]]\n",
            "[[1, 2, 3], [4, 5, 9], [7, 8, 6]]\n",
            "[[1, 2, 3], [4, 5, 6], [7, 8, 9]]\n"
          ]
        }
      ]
    },
    {
      "cell_type": "code",
      "source": [
        "## Searching through DFS\n",
        "OpenNode =  [  [1,2,3],\n",
        "               [4,5,9],\n",
        "               [7,8,6]]\n",
        "GoalNode = [[1,2,3],[4,5,6],[7,8,9]]\n",
        "temp = DFS(OpenNode,GoalNode)\n",
        "temp=Reverse(temp)\n",
        "temp.append(GoalNode)\n",
        "for i in temp:\n",
        "  print(i)"
      ],
      "metadata": {
        "id": "DWstkxx0qLfb",
        "colab": {
          "base_uri": "https://localhost:8080/"
        },
        "outputId": "6566dd7c-279a-45fc-e6f5-9deb9d3ec920"
      },
      "execution_count": 46,
      "outputs": [
        {
          "output_type": "stream",
          "name": "stdout",
          "text": [
            "[[1, 2, 3], [4, 5, 9], [7, 8, 6]]\n",
            "[[1, 2, 3], [4, 5, 6], [7, 8, 9]]\n"
          ]
        }
      ]
    },
    {
      "cell_type": "code",
      "source": [
        "## Searching through\n",
        "OpenNode =  [  [1,2,9],\n",
        "               [4,5,3],\n",
        "               [7,8,6]]\n",
        "GoalNode = [[1,2,3],[4,5,6],[7,8,9]]\n",
        "temp = DFID(OpenNode,GoalNode)\n",
        "temp=Reverse(temp)\n",
        "temp.append(GoalNode)\n",
        "print(len(temp))\n",
        "for i in temp:\n",
        "  print(i)"
      ],
      "metadata": {
        "id": "UqW_kr-XrYvJ",
        "colab": {
          "base_uri": "https://localhost:8080/"
        },
        "outputId": "686b29fd-e10d-4732-fe85-ee42aa128d79"
      },
      "execution_count": 45,
      "outputs": [
        {
          "output_type": "stream",
          "name": "stdout",
          "text": [
            "3\n",
            "[[1, 2, 9], [4, 5, 3], [7, 8, 6]]\n",
            "[[1, 2, 3], [4, 5, 9], [7, 8, 6]]\n",
            "[[1, 2, 3], [4, 5, 6], [7, 8, 9]]\n"
          ]
        }
      ]
    },
    {
      "cell_type": "code",
      "source": [],
      "metadata": {
        "id": "GIYD0l34AhSO"
      },
      "execution_count": 43,
      "outputs": []
    }
  ]
}